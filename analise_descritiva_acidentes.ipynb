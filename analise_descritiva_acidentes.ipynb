{
  "cells": [
    {
      "cell_type": "markdown",
      "metadata": {
        "id": "aSgZtZjlzV7E"
      },
      "source": [
        "---\n",
        "\n",
        "\n",
        "**Importando as bibliotecas**\n",
        "\n",
        "---\n",
        "\n"
      ]
    },
    {
      "cell_type": "code",
      "execution_count": null,
      "metadata": {
        "id": "pagYWbfNuQNP"
      },
      "outputs": [],
      "source": [
        "# coleta, tratamento e manipulação dos dados\n",
        "import numpy as np\n",
        "import pandas as pd\n",
        "\n",
        "# visualização e geração de mapas de calor\n",
        "import folium\n",
        "from folium import plugins\n",
        "import branca.colormap as cm\n",
        "\n",
        "# visualização e geração dos gráficos\n",
        "import matplotlib.pyplot as plt\n",
        "from datetime import time"
      ]
    },
    {
      "cell_type": "markdown",
      "metadata": {
        "id": "d5jobRY7AAqg"
      },
      "source": [
        "# **1. Coletar dados**"
      ]
    },
    {
      "cell_type": "markdown",
      "metadata": {
        "id": "dwIwmI6Gz05p"
      },
      "source": [
        "---\n",
        "\n",
        "**Coleta dos dados**: acidentes nas rodovias federais nordestinas em 2018\n",
        "\n",
        "---\n",
        "\n"
      ]
    },
    {
      "cell_type": "code",
      "execution_count": null,
      "metadata": {
        "colab": {
          "base_uri": "https://localhost:8080/"
        },
        "id": "iq5nZGdhulPi",
        "outputId": "f45b43bd-cf5b-4318-e567-c3a5135d359e"
      },
      "outputs": [
        {
          "data": {
            "text/plain": [
              "(14285, 30)"
            ]
          },
          "execution_count": 3,
          "metadata": {},
          "output_type": "execute_result"
        }
      ],
      "source": [
        "#Lê o dataset de acidentes no Brasil armazenado no arquivo csv\n",
        "df = pd.read_csv(\"datatran2018.csv\", encoding='latin', sep=\";\", error_bad_lines=False)\n",
        "\n",
        "#Cria um filtro para selecionar apenas acidentes no Nordeste\n",
        "filter_northeast = ((df[\"uf\"] == \"BA\") | (df[\"uf\"] == \"PE\") | (df[\"uf\"] == \"AL\") |\n",
        "                    (df[\"uf\"] == \"MA\") | (df[\"uf\"] == \"CE\") | (df[\"uf\"] == \"PB\") |\n",
        "                    (df[\"uf\"] == \"PI\") | (df[\"uf\"] == \"RN\") | (df[\"uf\"] == \"CE\"))\n",
        "\n",
        "#Atualiza o dataframe apenas com os acidentes no Nordeste\n",
        "df = df[filter_northeast]\n",
        "\n",
        "#Mostra o número de linhas (acidentes) e colunas (informações) do dataframe de acidentes\n",
        "df.shape"
      ]
    },
    {
      "cell_type": "markdown",
      "metadata": {
        "id": "9W_LvPr2AIIv"
      },
      "source": [
        "# **2. Realizar pré-processamento dos dados**"
      ]
    },
    {
      "cell_type": "markdown",
      "metadata": {
        "id": "ZhS_coDI5D2G"
      },
      "source": [
        "---\n",
        "\n",
        "**Definição de tipos**\n",
        "\n",
        "---\n",
        "\n"
      ]
    },
    {
      "cell_type": "code",
      "execution_count": null,
      "metadata": {
        "colab": {
          "base_uri": "https://localhost:8080/",
          "height": 326
        },
        "id": "LyQXrAtpvYow",
        "outputId": "527f65b0-ad4a-427f-d567-898d7c0fa133"
      },
      "outputs": [
        {
          "data": {
            "text/html": [
              "<div>\n",
              "<style scoped>\n",
              "    .dataframe tbody tr th:only-of-type {\n",
              "        vertical-align: middle;\n",
              "    }\n",
              "\n",
              "    .dataframe tbody tr th {\n",
              "        vertical-align: top;\n",
              "    }\n",
              "\n",
              "    .dataframe thead th {\n",
              "        text-align: right;\n",
              "    }\n",
              "</style>\n",
              "<table border=\"1\" class=\"dataframe\">\n",
              "  <thead>\n",
              "    <tr style=\"text-align: right;\">\n",
              "      <th></th>\n",
              "      <th>id</th>\n",
              "      <th>data_inversa</th>\n",
              "      <th>dia_semana</th>\n",
              "      <th>horario</th>\n",
              "      <th>uf</th>\n",
              "      <th>br</th>\n",
              "      <th>km</th>\n",
              "      <th>municipio</th>\n",
              "      <th>causa_acidente</th>\n",
              "      <th>tipo_acidente</th>\n",
              "      <th>classificacao_acidente</th>\n",
              "      <th>fase_dia</th>\n",
              "      <th>sentido_via</th>\n",
              "      <th>condicao_metereologica</th>\n",
              "      <th>tipo_pista</th>\n",
              "      <th>tracado_via</th>\n",
              "      <th>uso_solo</th>\n",
              "      <th>pessoas</th>\n",
              "      <th>mortos</th>\n",
              "      <th>feridos_leves</th>\n",
              "      <th>feridos_graves</th>\n",
              "      <th>ilesos</th>\n",
              "      <th>ignorados</th>\n",
              "      <th>feridos</th>\n",
              "      <th>veiculos</th>\n",
              "      <th>latitude</th>\n",
              "      <th>longitude</th>\n",
              "      <th>regional</th>\n",
              "      <th>delegacia</th>\n",
              "      <th>uop</th>\n",
              "    </tr>\n",
              "  </thead>\n",
              "  <tbody>\n",
              "    <tr>\n",
              "      <th>11</th>\n",
              "      <td>99991.0</td>\n",
              "      <td>2018-01-01</td>\n",
              "      <td>segunda-feira</td>\n",
              "      <td>02:00:00</td>\n",
              "      <td>PB</td>\n",
              "      <td>230.0</td>\n",
              "      <td>4</td>\n",
              "      <td>CABEDELO</td>\n",
              "      <td>Velocidade Incompatível</td>\n",
              "      <td>Colisão traseira</td>\n",
              "      <td>Com Vítimas Feridas</td>\n",
              "      <td>Plena Noite</td>\n",
              "      <td>Decrescente</td>\n",
              "      <td>Céu Claro</td>\n",
              "      <td>Dupla</td>\n",
              "      <td>Reta</td>\n",
              "      <td>Sim</td>\n",
              "      <td>6</td>\n",
              "      <td>0</td>\n",
              "      <td>1</td>\n",
              "      <td>2</td>\n",
              "      <td>3</td>\n",
              "      <td>0</td>\n",
              "      <td>3</td>\n",
              "      <td>2</td>\n",
              "      <td>-7.006437</td>\n",
              "      <td>-34.829589</td>\n",
              "      <td>SR-PB</td>\n",
              "      <td>DEL14/1</td>\n",
              "      <td>UOP01/PB</td>\n",
              "    </tr>\n",
              "    <tr>\n",
              "      <th>15</th>\n",
              "      <td>99995.0</td>\n",
              "      <td>2018-01-01</td>\n",
              "      <td>segunda-feira</td>\n",
              "      <td>01:40:00</td>\n",
              "      <td>RN</td>\n",
              "      <td>101.0</td>\n",
              "      <td>110,8</td>\n",
              "      <td>PARNAMIRIM</td>\n",
              "      <td>Animais na Pista</td>\n",
              "      <td>Atropelamento de Animal</td>\n",
              "      <td>Com Vítimas Feridas</td>\n",
              "      <td>Plena Noite</td>\n",
              "      <td>Crescente</td>\n",
              "      <td>Céu Claro</td>\n",
              "      <td>Dupla</td>\n",
              "      <td>Reta</td>\n",
              "      <td>Não</td>\n",
              "      <td>1</td>\n",
              "      <td>0</td>\n",
              "      <td>1</td>\n",
              "      <td>0</td>\n",
              "      <td>0</td>\n",
              "      <td>0</td>\n",
              "      <td>1</td>\n",
              "      <td>1</td>\n",
              "      <td>-5.953546</td>\n",
              "      <td>-35.264860</td>\n",
              "      <td>SR-RN</td>\n",
              "      <td>DEL15/1</td>\n",
              "      <td>UOP01/RN</td>\n",
              "    </tr>\n",
              "    <tr>\n",
              "      <th>26</th>\n",
              "      <td>100006.0</td>\n",
              "      <td>2018-01-01</td>\n",
              "      <td>segunda-feira</td>\n",
              "      <td>03:20:00</td>\n",
              "      <td>PE</td>\n",
              "      <td>232.0</td>\n",
              "      <td>58</td>\n",
              "      <td>POMBOS</td>\n",
              "      <td>Condutor Dormindo</td>\n",
              "      <td>Colisão com objeto estático</td>\n",
              "      <td>Com Vítimas Feridas</td>\n",
              "      <td>Plena Noite</td>\n",
              "      <td>Decrescente</td>\n",
              "      <td>Céu Claro</td>\n",
              "      <td>Dupla</td>\n",
              "      <td>Ponte</td>\n",
              "      <td>Sim</td>\n",
              "      <td>1</td>\n",
              "      <td>0</td>\n",
              "      <td>0</td>\n",
              "      <td>1</td>\n",
              "      <td>0</td>\n",
              "      <td>0</td>\n",
              "      <td>1</td>\n",
              "      <td>1</td>\n",
              "      <td>-8.147220</td>\n",
              "      <td>-35.397579</td>\n",
              "      <td>SR-PE</td>\n",
              "      <td>DEL11/1</td>\n",
              "      <td>UOP04/PE</td>\n",
              "    </tr>\n",
              "    <tr>\n",
              "      <th>28</th>\n",
              "      <td>100009.0</td>\n",
              "      <td>2018-01-01</td>\n",
              "      <td>segunda-feira</td>\n",
              "      <td>03:40:00</td>\n",
              "      <td>AL</td>\n",
              "      <td>104.0</td>\n",
              "      <td>44</td>\n",
              "      <td>BRANQUINHA</td>\n",
              "      <td>Não guardar distância de segurança</td>\n",
              "      <td>Colisão traseira</td>\n",
              "      <td>Sem Vítimas</td>\n",
              "      <td>Plena Noite</td>\n",
              "      <td>Crescente</td>\n",
              "      <td>Céu Claro</td>\n",
              "      <td>Simples</td>\n",
              "      <td>Curva</td>\n",
              "      <td>Não</td>\n",
              "      <td>2</td>\n",
              "      <td>0</td>\n",
              "      <td>0</td>\n",
              "      <td>0</td>\n",
              "      <td>1</td>\n",
              "      <td>1</td>\n",
              "      <td>0</td>\n",
              "      <td>2</td>\n",
              "      <td>-9.245987</td>\n",
              "      <td>-36.015575</td>\n",
              "      <td>SR-AL</td>\n",
              "      <td>DEL13/1</td>\n",
              "      <td>UOP02/AL</td>\n",
              "    </tr>\n",
              "    <tr>\n",
              "      <th>30</th>\n",
              "      <td>100011.0</td>\n",
              "      <td>2018-01-01</td>\n",
              "      <td>segunda-feira</td>\n",
              "      <td>03:30:00</td>\n",
              "      <td>PE</td>\n",
              "      <td>101.0</td>\n",
              "      <td>69</td>\n",
              "      <td>RECIFE</td>\n",
              "      <td>Condutor Dormindo</td>\n",
              "      <td>Saída de leito carroçável</td>\n",
              "      <td>Com Vítimas Feridas</td>\n",
              "      <td>Plena Noite</td>\n",
              "      <td>Crescente</td>\n",
              "      <td>Céu Claro</td>\n",
              "      <td>Múltipla</td>\n",
              "      <td>Reta</td>\n",
              "      <td>Sim</td>\n",
              "      <td>1</td>\n",
              "      <td>0</td>\n",
              "      <td>1</td>\n",
              "      <td>0</td>\n",
              "      <td>0</td>\n",
              "      <td>0</td>\n",
              "      <td>1</td>\n",
              "      <td>1</td>\n",
              "      <td>-8.063598</td>\n",
              "      <td>-34.944449</td>\n",
              "      <td>SR-PE</td>\n",
              "      <td>DEL11/1</td>\n",
              "      <td>UOP01/PE</td>\n",
              "    </tr>\n",
              "  </tbody>\n",
              "</table>\n",
              "</div>"
            ],
            "text/plain": [
              "          id data_inversa     dia_semana  ... regional delegacia       uop\n",
              "11   99991.0   2018-01-01  segunda-feira  ...    SR-PB   DEL14/1  UOP01/PB\n",
              "15   99995.0   2018-01-01  segunda-feira  ...    SR-RN   DEL15/1  UOP01/RN\n",
              "26  100006.0   2018-01-01  segunda-feira  ...    SR-PE   DEL11/1  UOP04/PE\n",
              "28  100009.0   2018-01-01  segunda-feira  ...    SR-AL   DEL13/1  UOP02/AL\n",
              "30  100011.0   2018-01-01  segunda-feira  ...    SR-PE   DEL11/1  UOP01/PE\n",
              "\n",
              "[5 rows x 30 columns]"
            ]
          },
          "execution_count": 4,
          "metadata": {},
          "output_type": "execute_result"
        }
      ],
      "source": [
        "#Apresenta os cinco primeiros dados do dataframe\n",
        "df.head()"
      ]
    },
    {
      "cell_type": "markdown",
      "metadata": {
        "id": "iU95KaaK5k6Y"
      },
      "source": [
        "*   **id**: categórico ordinal\n",
        "*   **data_inversa**: categórico ordinal\n",
        "*   **dia_semana**: categórico nominal\n",
        "*   **horário**: categórico ordinal\n",
        "*   **uf**: categórico nominal\n",
        "*   **br**: categórico nominal\n",
        "*   **km**: contínuo\n",
        "*   **município**: categórico nominal\n",
        "*   **causa_acidente**: categórico nominal\n",
        "*   **tipo_acidente**: categórico nominal\n",
        "*   **classificacao_acidente**: categórico nominal\n",
        "*   **fase_dia**: categórico nominal\n",
        "*   **sentido_via**: categórico nominal\n",
        "*   **condicao_metereologica**: categórico nominal\n",
        "*   **tipo_pista**: categórico nominal\n",
        "*   **tracado_via**: categórico nominal\n",
        "*   **uso_solo**: categórico binário\n",
        "*   **pessoas**: contínuo\n",
        "*   **mortos**: contínuo\n",
        "*   **feridos_leves**: contínuo\n",
        "*   **feridos_graves**: contínuo\n",
        "*   **ilesos**: contínuo\n",
        "*   **ignorados**: contínuo\n",
        "*   **feridos**: contínuo\n",
        "*   **veiculos**: contínuo\n",
        "*   **latitude**: contínuo\n",
        "*   **longitude**: contínuo\n",
        "*   **regional**: categórico nominal\n",
        "*   **delegacia**: categórico nominal\n",
        "*   **uop**: categórico nominal\n",
        "\n",
        "**Categóricos ordinais**: 3\n",
        "\n",
        "**Categóricos binários**: 1\n",
        "\n",
        "**Categóricos nominais**: 15\n",
        "\n",
        "**Contínuos**: 11"
      ]
    },
    {
      "cell_type": "markdown",
      "metadata": {
        "id": "4cPa_Vlh0z6y"
      },
      "source": [
        "---\n",
        "\n",
        "**Tratamento de dados ausentes**: como apresentado abaixo, 28 amostras não possuem os dados relacionados à BR e ao KM onde ocorreu o acidente. Devido a impossibilidade de inputar estes dados, as amostras foram removidas.\n",
        "\n",
        "---\n",
        "\n"
      ]
    },
    {
      "cell_type": "code",
      "execution_count": null,
      "metadata": {
        "colab": {
          "base_uri": "https://localhost:8080/"
        },
        "id": "7jBI6f_B1ENV",
        "outputId": "15a7f8a6-721a-4546-8eb0-5244e7986cce"
      },
      "outputs": [
        {
          "data": {
            "text/plain": [
              "id                         0\n",
              "data_inversa               0\n",
              "dia_semana                 0\n",
              "horario                    0\n",
              "uf                         0\n",
              "br                        28\n",
              "km                        28\n",
              "municipio                  0\n",
              "causa_acidente             0\n",
              "tipo_acidente              0\n",
              "classificacao_acidente     0\n",
              "fase_dia                   0\n",
              "sentido_via                0\n",
              "condicao_metereologica     0\n",
              "tipo_pista                 0\n",
              "tracado_via                0\n",
              "uso_solo                   0\n",
              "pessoas                    0\n",
              "mortos                     0\n",
              "feridos_leves              0\n",
              "feridos_graves             0\n",
              "ilesos                     0\n",
              "ignorados                  0\n",
              "feridos                    0\n",
              "veiculos                   0\n",
              "latitude                   0\n",
              "longitude                  0\n",
              "regional                   0\n",
              "delegacia                  0\n",
              "uop                        2\n",
              "dtype: int64"
            ]
          },
          "execution_count": 5,
          "metadata": {},
          "output_type": "execute_result"
        }
      ],
      "source": [
        "#Verifica a quantidade de NaN em cada coluna do dataset\n",
        "df.isna().sum()"
      ]
    },
    {
      "cell_type": "code",
      "execution_count": null,
      "metadata": {
        "colab": {
          "base_uri": "https://localhost:8080/"
        },
        "id": "CGK0DPIKSiv9",
        "outputId": "02f8f430-bf49-4d19-b891-737264e5455b"
      },
      "outputs": [
        {
          "data": {
            "text/plain": [
              "(14257, 30)"
            ]
          },
          "execution_count": 6,
          "metadata": {},
          "output_type": "execute_result"
        }
      ],
      "source": [
        "#Remove as linhas que possuem NaN em alguma coluna\n",
        "df.dropna(inplace = True)\n",
        "#Informa as dimensões do dataset\n",
        "df.shape"
      ]
    },
    {
      "cell_type": "markdown",
      "metadata": {
        "id": "LXYuNqToXKtq"
      },
      "source": [
        "---\n",
        "\n",
        "**Normalização e Discretização**: O processo de normalização consistiu na transformação dos dados 'causa_acidente' e 'tipo_acidente' em níveis de 0 a 1 que indicam do melhor ao pior caso. Em relação ao processo de discretização, foram definidos intervalos que agrupam os acidentes por quantidade pessoas envolvidas a partir do processamento do dado 'pessoas'. Ambos os processos resultaram em novas colunas no dataframe.\n",
        "\n",
        "---"
      ]
    },
    {
      "cell_type": "code",
      "execution_count": null,
      "metadata": {
        "colab": {
          "base_uri": "https://localhost:8080/"
        },
        "id": "XR3YN-kgihGS",
        "outputId": "928202a3-dd86-41e5-8e18-a17a5e463dbe"
      },
      "outputs": [
        {
          "data": {
            "text/plain": [
              "Falta de Atenção à Condução                                                       4962\n",
              "Desobediência às normas de trânsito pelo condutor                                 1653\n",
              "Ingestão de Álcool                                                                1161\n",
              "Não guardar distância de segurança                                                1016\n",
              "Velocidade Incompatível                                                            904\n",
              "Defeito Mecânico no Veículo                                                        706\n",
              "Animais na Pista                                                                   599\n",
              "Falta de Atenção do Pedestre                                                       562\n",
              "Condutor Dormindo                                                                  458\n",
              "Pista Escorregadia                                                                 452\n",
              "Ultrapassagem Indevida                                                             389\n",
              "Defeito na Via                                                                     388\n",
              "Avarias e/ou desgaste excessivo no pneu                                            191\n",
              "Restrição de Visibilidade                                                          121\n",
              "Mal Súbito                                                                         108\n",
              "Objeto estático sobre o leito carroçável                                            96\n",
              "Agressão Externa                                                                    90\n",
              "Carga excessiva e/ou mal acondicionada                                              77\n",
              "Sinalização da via insuficiente ou inadequada                                       74\n",
              "Deficiência ou não Acionamento do Sistema de Iluminação/Sinalização do Veículo      72\n",
              "Fenômenos da Natureza                                                               68\n",
              "Ingestão de álcool e/ou substâncias psicoativas pelo pedestre                       54\n",
              "Desobediência às normas de trânsito pelo pedestre                                   44\n",
              "Ingestão de Substâncias Psicoativas                                                 12\n",
              "Name: causa_acidente, dtype: int64"
            ]
          },
          "execution_count": 7,
          "metadata": {},
          "output_type": "execute_result"
        }
      ],
      "source": [
        "#Lista todas as causas de acidentes\n",
        "df[\"causa_acidente\"].value_counts()"
      ]
    },
    {
      "cell_type": "code",
      "execution_count": null,
      "metadata": {
        "colab": {
          "base_uri": "https://localhost:8080/",
          "height": 204
        },
        "id": "ejkSi_uBm0s-",
        "outputId": "06c397a8-2a25-47bd-e6a0-b7e15fb3842d"
      },
      "outputs": [
        {
          "data": {
            "text/html": [
              "<div>\n",
              "<style scoped>\n",
              "    .dataframe tbody tr th:only-of-type {\n",
              "        vertical-align: middle;\n",
              "    }\n",
              "\n",
              "    .dataframe tbody tr th {\n",
              "        vertical-align: top;\n",
              "    }\n",
              "\n",
              "    .dataframe thead th {\n",
              "        text-align: right;\n",
              "    }\n",
              "</style>\n",
              "<table border=\"1\" class=\"dataframe\">\n",
              "  <thead>\n",
              "    <tr style=\"text-align: right;\">\n",
              "      <th></th>\n",
              "      <th>causa_acidente</th>\n",
              "      <th>causa_acidente_normalizado</th>\n",
              "    </tr>\n",
              "  </thead>\n",
              "  <tbody>\n",
              "    <tr>\n",
              "      <th>11</th>\n",
              "      <td>Velocidade Incompatível</td>\n",
              "      <td>1.00</td>\n",
              "    </tr>\n",
              "    <tr>\n",
              "      <th>15</th>\n",
              "      <td>Animais na Pista</td>\n",
              "      <td>0.00</td>\n",
              "    </tr>\n",
              "    <tr>\n",
              "      <th>26</th>\n",
              "      <td>Condutor Dormindo</td>\n",
              "      <td>0.75</td>\n",
              "    </tr>\n",
              "    <tr>\n",
              "      <th>28</th>\n",
              "      <td>Não guardar distância de segurança</td>\n",
              "      <td>0.75</td>\n",
              "    </tr>\n",
              "    <tr>\n",
              "      <th>30</th>\n",
              "      <td>Condutor Dormindo</td>\n",
              "      <td>0.75</td>\n",
              "    </tr>\n",
              "  </tbody>\n",
              "</table>\n",
              "</div>"
            ],
            "text/plain": [
              "                        causa_acidente  causa_acidente_normalizado\n",
              "11             Velocidade Incompatível                        1.00\n",
              "15                    Animais na Pista                        0.00\n",
              "26                   Condutor Dormindo                        0.75\n",
              "28  Não guardar distância de segurança                        0.75\n",
              "30                   Condutor Dormindo                        0.75"
            ]
          },
          "execution_count": 8,
          "metadata": {},
          "output_type": "execute_result"
        }
      ],
      "source": [
        "#Tupla de causas de acidente onde não existe a culpa do condutor\n",
        "no_driver_irresponsibility = (\"Animais na Pista\", \"Falta de Atenção do Pedestre\", \"Pista Escorregadia\", \"Defeito na Via\", \"Mal Súbito\", \"Sinalização da via insuficiente ou inadequada\", \"Agressão Externa\", \"Desobediência às normas de trânsito pelo pedestre\")\n",
        "\n",
        "#Tupla de causas de acidente onde existe baixa culpa do condutor\n",
        "low_driver_irresponsibility = (\"Restrição de Visibilidade\", \"Deficiência ou não Acionamento do Sistema de Iluminação/Sinalização do Veículo\", \"Fenômenos da Natureza\")\n",
        "\n",
        "#Tupla de causas de acidente onde existe culpa moderada do condutor\n",
        "moderate_driver_irresponsibility = (\"Avarias e/ou desgaste excessivo no pneu\", \"Objeto estático sobre o leito carroçável\", \"Carga excessiva e/ou mal acondicionada\")\n",
        "\n",
        "#Tupla de causas de acidente onde existe alta culpa do condutor\n",
        "high_driver_irresponsibility = (\"Não guardar distância de segurança\", \"Defeito Mecânico no Veículo\", \"Condutor Dormindo\")\n",
        "\n",
        "#Tupla de causas de acidente onde existe culpa muito alta do condutor\n",
        "very_high_driver_irresponsibility = (\"Falta de Atenção à Condução\", \"Desobediência às normas de trânsito pelo condutor\", \"Ingestão de Álcool\", \"Velocidade Incompatível\", \"Ultrapassagem Indevida\", \"Ingestão de álcool e/ou substâncias psicoativas pelo pedestre\", \"Ingestão de Substâncias Psicoativas\")\n",
        "\n",
        "#Transforma a causa do acidente em um índice que representa o nível de culpa do condutor\n",
        "def normalize_accident_cause(accident_cause):\n",
        "  #Variável para o nível de culpa do condutor\n",
        "  level = None\n",
        "\n",
        "  #Níveis de culpa\n",
        "  if accident_cause in no_driver_irresponsibility:\n",
        "    level = 0.0\n",
        "  elif accident_cause in low_driver_irresponsibility:\n",
        "    level = 0.25\n",
        "  elif accident_cause in moderate_driver_irresponsibility:\n",
        "    level = 0.5\n",
        "  elif accident_cause in high_driver_irresponsibility:\n",
        "    level = 0.75\n",
        "  elif accident_cause in very_high_driver_irresponsibility:\n",
        "    level = 1.0\n",
        "\n",
        "  #Retorna o nível de culpa do condutor\n",
        "  return level\n",
        "\n",
        "#Cria uma nova coluna com dado categórico ordinal a partir do cálculo\n",
        "#do nível de culpa do condutor no acidente\n",
        "df[\"causa_acidente_normalizado\"] = df[\"causa_acidente\"].apply(normalize_accident_cause)\n",
        "\n",
        "#Mostra a coluna primitiva e a derivada a ela\n",
        "df[[\"causa_acidente\", \"causa_acidente_normalizado\"]].head()"
      ]
    },
    {
      "cell_type": "code",
      "execution_count": null,
      "metadata": {
        "colab": {
          "base_uri": "https://localhost:8080/"
        },
        "id": "hUf-9hixw5yp",
        "outputId": "4886dc4c-77ad-4c4c-87c4-8e47bd51ccf6"
      },
      "outputs": [
        {
          "data": {
            "text/plain": [
              "Colisão traseira                   2623\n",
              "Colisão transversal                1914\n",
              "Saída de leito carroçável          1875\n",
              "Colisão lateral                    1772\n",
              "Colisão frontal                    1292\n",
              "Tombamento                          944\n",
              "Atropelamento de Pedestre           878\n",
              "Colisão com objeto estático         694\n",
              "Capotamento                         663\n",
              "Queda de ocupante de veículo        543\n",
              "Atropelamento de Animal             478\n",
              "Engavetamento                       251\n",
              "Incêndio                            168\n",
              "Colisão com objeto em movimento      77\n",
              "Danos eventuais                      56\n",
              "Derramamento de carga                29\n",
              "Name: tipo_acidente, dtype: int64"
            ]
          },
          "execution_count": 9,
          "metadata": {},
          "output_type": "execute_result"
        }
      ],
      "source": [
        "#Lista todas os tipos de acidentes\n",
        "df[\"tipo_acidente\"].value_counts()"
      ]
    },
    {
      "cell_type": "code",
      "execution_count": null,
      "metadata": {
        "colab": {
          "base_uri": "https://localhost:8080/",
          "height": 204
        },
        "id": "5Dy9my-y1U3_",
        "outputId": "8c2cc3c3-b63b-4cb0-c70d-21c977e34a41"
      },
      "outputs": [
        {
          "data": {
            "text/html": [
              "<div>\n",
              "<style scoped>\n",
              "    .dataframe tbody tr th:only-of-type {\n",
              "        vertical-align: middle;\n",
              "    }\n",
              "\n",
              "    .dataframe tbody tr th {\n",
              "        vertical-align: top;\n",
              "    }\n",
              "\n",
              "    .dataframe thead th {\n",
              "        text-align: right;\n",
              "    }\n",
              "</style>\n",
              "<table border=\"1\" class=\"dataframe\">\n",
              "  <thead>\n",
              "    <tr style=\"text-align: right;\">\n",
              "      <th></th>\n",
              "      <th>tipo_acidente</th>\n",
              "      <th>tipo_acidente_normalizado</th>\n",
              "    </tr>\n",
              "  </thead>\n",
              "  <tbody>\n",
              "    <tr>\n",
              "      <th>11</th>\n",
              "      <td>Colisão traseira</td>\n",
              "      <td>0.00</td>\n",
              "    </tr>\n",
              "    <tr>\n",
              "      <th>15</th>\n",
              "      <td>Atropelamento de Animal</td>\n",
              "      <td>0.25</td>\n",
              "    </tr>\n",
              "    <tr>\n",
              "      <th>26</th>\n",
              "      <td>Colisão com objeto estático</td>\n",
              "      <td>0.50</td>\n",
              "    </tr>\n",
              "    <tr>\n",
              "      <th>28</th>\n",
              "      <td>Colisão traseira</td>\n",
              "      <td>0.00</td>\n",
              "    </tr>\n",
              "    <tr>\n",
              "      <th>30</th>\n",
              "      <td>Saída de leito carroçável</td>\n",
              "      <td>0.75</td>\n",
              "    </tr>\n",
              "  </tbody>\n",
              "</table>\n",
              "</div>"
            ],
            "text/plain": [
              "                  tipo_acidente  tipo_acidente_normalizado\n",
              "11             Colisão traseira                       0.00\n",
              "15      Atropelamento de Animal                       0.25\n",
              "26  Colisão com objeto estático                       0.50\n",
              "28             Colisão traseira                       0.00\n",
              "30    Saída de leito carroçável                       0.75"
            ]
          },
          "execution_count": 10,
          "metadata": {},
          "output_type": "execute_result"
        }
      ],
      "source": [
        "#Tupla de acidentes de risco mínimo\n",
        "very_low_risk = (\"Colisão traseira\", \"Danos eventuais\", \"Derramamento de carga\")\n",
        "\n",
        "#Tupla de acidentes de baixo risco\n",
        "low_risk = (\"Queda de ocupante de veículo\", \"Atropelamento de Animal\", \"Colisão com objeto em movimento\")\n",
        "\n",
        "#Tupla de acidentes de risco moderado\n",
        "moderate_risk = (\"Colisão com objeto estático\", \"Engavetamento\")\n",
        "\n",
        "#Tupla de acidentes de alto risco\n",
        "high_risk = (\"Colisão transversal\", \"Tombamento\", \"Saída de leito carroçável\", \"Incêndio\")\n",
        "\n",
        "#Tupla de acidentes de risco máximo\n",
        "very_high_risk = (\"Colisão lateral\", \"Colisão frontal\", \"Atropelamento de Pedestre\", \"Capotamento\")\n",
        "\n",
        "#Transforma o tipo do acidente em um índice que representa o nível de risco\n",
        "def normalize_accident_type(accident_type):\n",
        "  #Variável para o nível de risco do acidente\n",
        "  level = None\n",
        "\n",
        "  #Níveis de risco\n",
        "  if accident_type in very_low_risk:\n",
        "    level = 0.0\n",
        "  elif accident_type in low_risk:\n",
        "    level = 0.25\n",
        "  elif accident_type in moderate_risk:\n",
        "    level = 0.5\n",
        "  elif accident_type in high_risk:\n",
        "    level = 0.75\n",
        "  elif accident_type in very_high_risk:\n",
        "    level = 1.0\n",
        "\n",
        "  #Retorna o nível de risco\n",
        "  return level\n",
        "\n",
        "#Cria uma nova coluna com dado categórico ordinal a partir do cálculo\n",
        "#do nível de risco de vítimas no acidente\n",
        "df[\"tipo_acidente_normalizado\"] = df[\"tipo_acidente\"].apply(normalize_accident_type)\n",
        "\n",
        "#Mostra a coluna primitiva e a derivada a ela\n",
        "df[[\"tipo_acidente\", \"tipo_acidente_normalizado\"]].head()"
      ]
    },
    {
      "cell_type": "code",
      "execution_count": null,
      "metadata": {
        "colab": {
          "base_uri": "https://localhost:8080/"
        },
        "id": "Jh8MnDdJhHVb",
        "outputId": "cb164767-9cc6-4251-e602-fb003e2811b4"
      },
      "outputs": [
        {
          "data": {
            "text/plain": [
              "55"
            ]
          },
          "execution_count": 11,
          "metadata": {},
          "output_type": "execute_result"
        }
      ],
      "source": [
        "#Acidente com o maior número de pessoas envolvidas\n",
        "df[\"pessoas\"].max()"
      ]
    },
    {
      "cell_type": "code",
      "execution_count": null,
      "metadata": {
        "colab": {
          "base_uri": "https://localhost:8080/",
          "height": 204
        },
        "id": "9-kpgNcFX9jG",
        "outputId": "088459ef-ffd0-4e26-be33-8a81579a5711"
      },
      "outputs": [
        {
          "data": {
            "text/html": [
              "<div>\n",
              "<style scoped>\n",
              "    .dataframe tbody tr th:only-of-type {\n",
              "        vertical-align: middle;\n",
              "    }\n",
              "\n",
              "    .dataframe tbody tr th {\n",
              "        vertical-align: top;\n",
              "    }\n",
              "\n",
              "    .dataframe thead th {\n",
              "        text-align: right;\n",
              "    }\n",
              "</style>\n",
              "<table border=\"1\" class=\"dataframe\">\n",
              "  <thead>\n",
              "    <tr style=\"text-align: right;\">\n",
              "      <th></th>\n",
              "      <th>pessoas</th>\n",
              "      <th>pessoas_discretizadas</th>\n",
              "    </tr>\n",
              "  </thead>\n",
              "  <tbody>\n",
              "    <tr>\n",
              "      <th>11</th>\n",
              "      <td>6</td>\n",
              "      <td>[0, 10)</td>\n",
              "    </tr>\n",
              "    <tr>\n",
              "      <th>15</th>\n",
              "      <td>1</td>\n",
              "      <td>[0, 10)</td>\n",
              "    </tr>\n",
              "    <tr>\n",
              "      <th>26</th>\n",
              "      <td>1</td>\n",
              "      <td>[0, 10)</td>\n",
              "    </tr>\n",
              "    <tr>\n",
              "      <th>28</th>\n",
              "      <td>2</td>\n",
              "      <td>[0, 10)</td>\n",
              "    </tr>\n",
              "    <tr>\n",
              "      <th>30</th>\n",
              "      <td>1</td>\n",
              "      <td>[0, 10)</td>\n",
              "    </tr>\n",
              "  </tbody>\n",
              "</table>\n",
              "</div>"
            ],
            "text/plain": [
              "    pessoas pessoas_discretizadas\n",
              "11        6               [0, 10)\n",
              "15        1               [0, 10)\n",
              "26        1               [0, 10)\n",
              "28        2               [0, 10)\n",
              "30        1               [0, 10)"
            ]
          },
          "execution_count": 12,
          "metadata": {},
          "output_type": "execute_result"
        }
      ],
      "source": [
        "#Discretiza o número de pessoas envolvidas nos acidentes em intervalos de 10\n",
        "def discretize_n_people(people):\n",
        "  #Variável para o intervalo\n",
        "  range = None\n",
        "\n",
        "  #Intervalos considerados a partir do máximo de pessoas envolvidas no dataset\n",
        "  if people >= 0 and people < 10:\n",
        "    range = \"[0, 10)\"\n",
        "  elif people >= 10 and people < 20:\n",
        "    range = \"[10, 20)\"\n",
        "  elif people >= 20 and people < 30:\n",
        "    range = \"[20, 30)\"\n",
        "  elif people >= 30 and people < 40:\n",
        "    range = \"[30, 40)\"\n",
        "  elif people >= 40 and people < 50:\n",
        "    range = \"[40, 50)\"\n",
        "  elif people >= 50 and people <= 60:\n",
        "    range = \"[50, 60]\"\n",
        "\n",
        "  #Retorna o intervalo calulado para determinado número de pessoas\n",
        "  return range\n",
        "\n",
        "#Cria uma nova coluna com dado categórico nominal a partir do cálculo do \n",
        "#intervalo de pessoas para cada linha\n",
        "df[\"pessoas_discretizadas\"] = df[\"pessoas\"].apply(discretize_n_people)\n",
        "\n",
        "#Mostra a coluna primitiva e a derivada a ela\n",
        "df[[\"pessoas\", \"pessoas_discretizadas\"]].head()"
      ]
    },
    {
      "cell_type": "markdown",
      "metadata": {
        "id": "iq8BdRs68PEP"
      },
      "source": [
        "---\n",
        "\n",
        "**Limpeza de dados**: diante da ausência de outliers, incorretos e dados duplicados, a limpeza foi realizada apenas para dados irrelevantes para esta análise: id, km, municipio, sentido_via, feridos, regional, delegacia e uop\n",
        "\n",
        "---"
      ]
    },
    {
      "cell_type": "code",
      "execution_count": null,
      "metadata": {
        "colab": {
          "base_uri": "https://localhost:8080/",
          "height": 326
        },
        "id": "TscmKq_L8d9T",
        "outputId": "dffdec06-e729-4b5e-dee6-7ac8bb6312fe"
      },
      "outputs": [
        {
          "data": {
            "text/html": [
              "<div>\n",
              "<style scoped>\n",
              "    .dataframe tbody tr th:only-of-type {\n",
              "        vertical-align: middle;\n",
              "    }\n",
              "\n",
              "    .dataframe tbody tr th {\n",
              "        vertical-align: top;\n",
              "    }\n",
              "\n",
              "    .dataframe thead th {\n",
              "        text-align: right;\n",
              "    }\n",
              "</style>\n",
              "<table border=\"1\" class=\"dataframe\">\n",
              "  <thead>\n",
              "    <tr style=\"text-align: right;\">\n",
              "      <th></th>\n",
              "      <th>data_inversa</th>\n",
              "      <th>dia_semana</th>\n",
              "      <th>horario</th>\n",
              "      <th>uf</th>\n",
              "      <th>br</th>\n",
              "      <th>causa_acidente</th>\n",
              "      <th>tipo_acidente</th>\n",
              "      <th>classificacao_acidente</th>\n",
              "      <th>fase_dia</th>\n",
              "      <th>condicao_metereologica</th>\n",
              "      <th>tipo_pista</th>\n",
              "      <th>tracado_via</th>\n",
              "      <th>uso_solo</th>\n",
              "      <th>pessoas</th>\n",
              "      <th>mortos</th>\n",
              "      <th>feridos_leves</th>\n",
              "      <th>feridos_graves</th>\n",
              "      <th>ilesos</th>\n",
              "      <th>ignorados</th>\n",
              "      <th>veiculos</th>\n",
              "      <th>latitude</th>\n",
              "      <th>longitude</th>\n",
              "      <th>causa_acidente_normalizado</th>\n",
              "      <th>tipo_acidente_normalizado</th>\n",
              "      <th>pessoas_discretizadas</th>\n",
              "    </tr>\n",
              "  </thead>\n",
              "  <tbody>\n",
              "    <tr>\n",
              "      <th>11</th>\n",
              "      <td>2018-01-01</td>\n",
              "      <td>segunda-feira</td>\n",
              "      <td>02:00:00</td>\n",
              "      <td>PB</td>\n",
              "      <td>230.0</td>\n",
              "      <td>Velocidade Incompatível</td>\n",
              "      <td>Colisão traseira</td>\n",
              "      <td>Com Vítimas Feridas</td>\n",
              "      <td>Plena Noite</td>\n",
              "      <td>Céu Claro</td>\n",
              "      <td>Dupla</td>\n",
              "      <td>Reta</td>\n",
              "      <td>Sim</td>\n",
              "      <td>6</td>\n",
              "      <td>0</td>\n",
              "      <td>1</td>\n",
              "      <td>2</td>\n",
              "      <td>3</td>\n",
              "      <td>0</td>\n",
              "      <td>2</td>\n",
              "      <td>-7.006437</td>\n",
              "      <td>-34.829589</td>\n",
              "      <td>1.00</td>\n",
              "      <td>0.00</td>\n",
              "      <td>[0, 10)</td>\n",
              "    </tr>\n",
              "    <tr>\n",
              "      <th>15</th>\n",
              "      <td>2018-01-01</td>\n",
              "      <td>segunda-feira</td>\n",
              "      <td>01:40:00</td>\n",
              "      <td>RN</td>\n",
              "      <td>101.0</td>\n",
              "      <td>Animais na Pista</td>\n",
              "      <td>Atropelamento de Animal</td>\n",
              "      <td>Com Vítimas Feridas</td>\n",
              "      <td>Plena Noite</td>\n",
              "      <td>Céu Claro</td>\n",
              "      <td>Dupla</td>\n",
              "      <td>Reta</td>\n",
              "      <td>Não</td>\n",
              "      <td>1</td>\n",
              "      <td>0</td>\n",
              "      <td>1</td>\n",
              "      <td>0</td>\n",
              "      <td>0</td>\n",
              "      <td>0</td>\n",
              "      <td>1</td>\n",
              "      <td>-5.953546</td>\n",
              "      <td>-35.264860</td>\n",
              "      <td>0.00</td>\n",
              "      <td>0.25</td>\n",
              "      <td>[0, 10)</td>\n",
              "    </tr>\n",
              "    <tr>\n",
              "      <th>26</th>\n",
              "      <td>2018-01-01</td>\n",
              "      <td>segunda-feira</td>\n",
              "      <td>03:20:00</td>\n",
              "      <td>PE</td>\n",
              "      <td>232.0</td>\n",
              "      <td>Condutor Dormindo</td>\n",
              "      <td>Colisão com objeto estático</td>\n",
              "      <td>Com Vítimas Feridas</td>\n",
              "      <td>Plena Noite</td>\n",
              "      <td>Céu Claro</td>\n",
              "      <td>Dupla</td>\n",
              "      <td>Ponte</td>\n",
              "      <td>Sim</td>\n",
              "      <td>1</td>\n",
              "      <td>0</td>\n",
              "      <td>0</td>\n",
              "      <td>1</td>\n",
              "      <td>0</td>\n",
              "      <td>0</td>\n",
              "      <td>1</td>\n",
              "      <td>-8.147220</td>\n",
              "      <td>-35.397579</td>\n",
              "      <td>0.75</td>\n",
              "      <td>0.50</td>\n",
              "      <td>[0, 10)</td>\n",
              "    </tr>\n",
              "    <tr>\n",
              "      <th>28</th>\n",
              "      <td>2018-01-01</td>\n",
              "      <td>segunda-feira</td>\n",
              "      <td>03:40:00</td>\n",
              "      <td>AL</td>\n",
              "      <td>104.0</td>\n",
              "      <td>Não guardar distância de segurança</td>\n",
              "      <td>Colisão traseira</td>\n",
              "      <td>Sem Vítimas</td>\n",
              "      <td>Plena Noite</td>\n",
              "      <td>Céu Claro</td>\n",
              "      <td>Simples</td>\n",
              "      <td>Curva</td>\n",
              "      <td>Não</td>\n",
              "      <td>2</td>\n",
              "      <td>0</td>\n",
              "      <td>0</td>\n",
              "      <td>0</td>\n",
              "      <td>1</td>\n",
              "      <td>1</td>\n",
              "      <td>2</td>\n",
              "      <td>-9.245987</td>\n",
              "      <td>-36.015575</td>\n",
              "      <td>0.75</td>\n",
              "      <td>0.00</td>\n",
              "      <td>[0, 10)</td>\n",
              "    </tr>\n",
              "    <tr>\n",
              "      <th>30</th>\n",
              "      <td>2018-01-01</td>\n",
              "      <td>segunda-feira</td>\n",
              "      <td>03:30:00</td>\n",
              "      <td>PE</td>\n",
              "      <td>101.0</td>\n",
              "      <td>Condutor Dormindo</td>\n",
              "      <td>Saída de leito carroçável</td>\n",
              "      <td>Com Vítimas Feridas</td>\n",
              "      <td>Plena Noite</td>\n",
              "      <td>Céu Claro</td>\n",
              "      <td>Múltipla</td>\n",
              "      <td>Reta</td>\n",
              "      <td>Sim</td>\n",
              "      <td>1</td>\n",
              "      <td>0</td>\n",
              "      <td>1</td>\n",
              "      <td>0</td>\n",
              "      <td>0</td>\n",
              "      <td>0</td>\n",
              "      <td>1</td>\n",
              "      <td>-8.063598</td>\n",
              "      <td>-34.944449</td>\n",
              "      <td>0.75</td>\n",
              "      <td>0.75</td>\n",
              "      <td>[0, 10)</td>\n",
              "    </tr>\n",
              "  </tbody>\n",
              "</table>\n",
              "</div>"
            ],
            "text/plain": [
              "   data_inversa     dia_semana  ... tipo_acidente_normalizado pessoas_discretizadas\n",
              "11   2018-01-01  segunda-feira  ...                      0.00               [0, 10)\n",
              "15   2018-01-01  segunda-feira  ...                      0.25               [0, 10)\n",
              "26   2018-01-01  segunda-feira  ...                      0.50               [0, 10)\n",
              "28   2018-01-01  segunda-feira  ...                      0.00               [0, 10)\n",
              "30   2018-01-01  segunda-feira  ...                      0.75               [0, 10)\n",
              "\n",
              "[5 rows x 25 columns]"
            ]
          },
          "execution_count": 13,
          "metadata": {},
          "output_type": "execute_result"
        }
      ],
      "source": [
        "#Remove as colunas irrelevantes\n",
        "df.drop([\"id\", \"km\", \"municipio\", \"sentido_via\", \"feridos\", \"regional\", \"delegacia\", \"uop\"], axis = 1, inplace = True)\n",
        "#Mostra o novo dataframe\n",
        "df.head()"
      ]
    },
    {
      "cell_type": "markdown",
      "metadata": {
        "id": "-fz6GyBHARjr"
      },
      "source": [
        "#**3. Apresentar estatísticas descritivas dos dados com visualizações**"
      ]
    },
    {
      "cell_type": "markdown",
      "metadata": {
        "id": "RpOmD0u5Mq9P"
      },
      "source": [
        "---\n",
        "\n",
        "**Mapa de calor de acidentes:** apresenta o índice de acidentes de acordo com a localização das incidências \n",
        "\n",
        "---"
      ]
    },
    {
      "cell_type": "code",
      "execution_count": null,
      "metadata": {
        "id": "hBtfzYxLQaLa"
      },
      "outputs": [],
      "source": [
        "# lista de coordendas dos acidentes\n",
        "coordinates = []\n",
        "\n",
        "# armazena as coordenadas de todos acincentes registrados no dataframe\n",
        "for latitude, longitude in zip(df.latitude.values, df.longitude.values):    \n",
        "  coordinates.append([latitude, longitude])\n",
        "\n",
        "# intancia a visualização do mapa do Nordeste\n",
        "heatmap_total_accidents = folium.Map(\n",
        "    location=[-9.231630041999422, -39.87133381935983],\n",
        "    tiles=\"Stamen Terrain\",\n",
        "    zoom_start=6,    \n",
        ")\n",
        "\n",
        "# adiciona os pontos de calor relacionados ao localização dos acidentes\n",
        "heatmap_total_accidents.add_child(plugins.HeatMap(coordinates, blur=25))\n",
        "heatmap_total_accidents"
      ]
    },
    {
      "cell_type": "markdown",
      "metadata": {
        "id": "GgPbVG3QXaKr"
      },
      "source": [
        "---\n",
        "\n",
        "**Mapa de acidentes por nível de irresponsabilidade do condutor:** apresenta o íncide de acidentes de acordo com a normalização realizada nos dados referentes a causa do acidente\n",
        "\n",
        "---"
      ]
    },
    {
      "cell_type": "code",
      "execution_count": null,
      "metadata": {
        "id": "TlorO_at0fni"
      },
      "outputs": [],
      "source": [
        "# lista de coordendas dos acidentes\n",
        "coordinates_cause_accidents = []\n",
        "\n",
        "# armazena as coordenadas de todos acincentes e seus respectivos tipos registrados no dataframe\n",
        "for latitude, longitude, weight in zip(df.latitude.values, df.longitude.values, df.causa_acidente_normalizado.values):    \n",
        "  coordinates_cause_accidents.append([latitude, longitude, weight])\n",
        "\n",
        "# intancia a visualização do mapa do Nordeste\n",
        "heatmap_cause_accidents = folium.Map(\n",
        "    location=[-9.231630041999422, -39.87133381935983],\n",
        "    tiles=\"Stamen Terrain\",\n",
        "    zoom_start=6,    \n",
        ")\n",
        "\n",
        "# define a escala de cores para cada nível de responsabilidade\n",
        "colormap = cm.LinearColormap(colors=['#FDE788', '#FEAF68', '#FE7748', '#FF3F27', '#FF0707'], \n",
        "                             index=[0.0, .25, .50, .75, 1.0], \n",
        "                             vmin=0.0, \n",
        "                             vmax=1.0, \n",
        "                             caption='Nível de irresponasbilidade do condutor nos acidentes').add_to(heatmap_cause_accidents)\n",
        "\n",
        "# insere o pontos de incidencia de acordo com seus níveis\n",
        "for latitude, longitude, weight in coordinates_cause_accidents:\n",
        "  color = colormap(weight)\n",
        "  folium.PolyLine([(latitude, longitude), (latitude, longitude)],\n",
        "                  color=color,\n",
        "                  weight=7, \n",
        "                  opacity=0.4).add_to(heatmap_cause_accidents)\n",
        "\n",
        "heatmap_cause_accidents"
      ]
    },
    {
      "cell_type": "markdown",
      "metadata": {
        "id": "WqUeebHQOlh8"
      },
      "source": [
        "---\n",
        "\n",
        "**Mapa de acidentes por nível de risco:** apresenta o íncide de acidentes de acordo com a normalização realizada nos dados referentes ao tipo de acidente\n",
        "\n",
        "---"
      ]
    },
    {
      "cell_type": "code",
      "execution_count": null,
      "metadata": {
        "id": "OH_uPHmmPpPn"
      },
      "outputs": [],
      "source": [
        "# lista de coordendas dos acidentes\n",
        "coordinates_type_accidents = []\n",
        "\n",
        "# armazena as coordenadas de todos acincentes e seus respectivos tipos registrados no dataframe\n",
        "for latitude, longitude, weight in zip(df.latitude.values, df.longitude.values, df.tipo_acidente_normalizado.values):    \n",
        "  coordinates_type_accidents.append([latitude, longitude, weight])\n",
        "\n",
        "# intancia a visualização do mapa do Nordeste\n",
        "heatmap_type_accidents = folium.Map(\n",
        "    location=[-9.231630041999422, -39.87133381935983],\n",
        "    tiles=\"Stamen Terrain\",\n",
        "    zoom_start=6,    \n",
        ")\n",
        "\n",
        "# define a escala de cores para cada nível risco do acidente\n",
        "colormap = cm.LinearColormap(colors=['#FDE788', '#FEAF68', '#FE7748', '#FF3F27', '#FF0707'], \n",
        "                             index=[0.0, .25, .50, .75, 1.0], \n",
        "                             vmin=0.0, \n",
        "                             vmax=1.0, \n",
        "                             caption='Nível de risco nos acidentes').add_to(heatmap_type_accidents)\n",
        "\n",
        "# insere o pontos de incidencia de acordo com seus níveis\n",
        "for latitude, longitude, weight in coordinates_type_accidents:\n",
        "  color = colormap(weight)\n",
        "  folium.PolyLine([(latitude, longitude), (latitude, longitude)],\n",
        "                  color=color,\n",
        "                  weight=7, \n",
        "                  opacity=0.4).add_to(heatmap_type_accidents)\n",
        "\n",
        "heatmap_type_accidents"
      ]
    },
    {
      "cell_type": "markdown",
      "metadata": {
        "id": "q7Muihijy13B"
      },
      "source": [
        "---\n",
        "\n",
        "**Gráfico dos acidentes em cada estado:** apresenta quantos acidentes ocorreram em cada estado \n",
        "\n",
        "---"
      ]
    },
    {
      "cell_type": "code",
      "execution_count": null,
      "metadata": {
        "id": "xKw9LJCnkWMl"
      },
      "outputs": [],
      "source": [
        "# lista a quantidade de acidentes por cada estado\n",
        "accidents_by_state = df[\"uf\"].value_counts()\n",
        "\n",
        "# gera e plota o gráfico de acidentes em relação a cada estado\n",
        "accidents_by_state.plot(kind=\"bar\", \n",
        "                        figsize=(20,10),                         \n",
        "                        ylabel='numero de acidentes')\n",
        "plt.show()"
      ]
    },
    {
      "cell_type": "markdown",
      "metadata": {
        "id": "j_-FoazjkV4k"
      },
      "source": [
        "---\n",
        "\n",
        "**Gráfico dos acidentes em cada BR:** apresenta quantos acidentes ocorreram em cada rodovia federal\n",
        "\n",
        "---"
      ]
    },
    {
      "cell_type": "code",
      "execution_count": null,
      "metadata": {
        "id": "YZnB6EFVksvr"
      },
      "outputs": [],
      "source": [
        "# lista a quantidade de acidentes em cada rodovia\n",
        "accidents_by_road = df[\"br\"].value_counts()\n",
        "\n",
        "# gera e plota o gráfico de acidentes em relação a cada rodovia\n",
        "accidents_by_road.plot(kind=\"bar\", \n",
        "                        figsize=(20,10),                         \n",
        "                        ylabel='numero de acidentes')\n",
        "plt.show()"
      ]
    },
    {
      "cell_type": "markdown",
      "metadata": {
        "id": "vTgWkkU7nchl"
      },
      "source": [
        "---\n",
        "\n",
        "**Gráfico dos acidentes em cada turno:** apresenta quantos acidentes ocorreram em cada turno do dia\n",
        "\n",
        "---"
      ]
    },
    {
      "cell_type": "code",
      "execution_count": null,
      "metadata": {
        "id": "BcwQXBSLnyTW"
      },
      "outputs": [],
      "source": [
        "# lista todos horarios de acidentes \n",
        "hours_accidents = pd.to_datetime(df['horario']).dt.time\n",
        "\n",
        "# define o período diurno entre 6h até as 18h\n",
        "start_day = time(6, 0, 0)\n",
        "finish_day = time(18, 0, 0)\n",
        "\n",
        "# inicializa os contadores diurno e noturno\n",
        "day = night = 0\n",
        "\n",
        "# contabiliza quantos acidentes ocorram em cada turno do dia\n",
        "for hour_accident in hours_accidents:\n",
        "  if (hour_accident >= start_day) and (hour_accident <= finish_day):\n",
        "    day += 1\n",
        "  else:\n",
        "    night += 1\n",
        "\n",
        "# gera e plota o gráfico de acidentes em relação ao turno do dia\n",
        "labels = \"Diurno\", \"Noturno\"\n",
        "sizes = [day, night]\n",
        "\n",
        "fig1, ax1 = plt.subplots(figsize=(9, 9))\n",
        "ax1.pie(sizes,         \n",
        "        labels=labels,\n",
        "        autopct='%1.1f%%',\n",
        "        shadow=True,              \n",
        "        startangle=90)\n",
        "ax1.axis('equal')\n",
        "\n",
        "plt.show()"
      ]
    },
    {
      "cell_type": "markdown",
      "metadata": {
        "id": "ULD2SDNnco8x"
      },
      "source": [
        "---\n",
        "\n",
        "**Gráfico de acidentes em relação a condição climática:** apresenta quantitavamente os acidentes de acordo com a condição metereológica\n",
        "\n",
        "---"
      ]
    },
    {
      "cell_type": "code",
      "execution_count": null,
      "metadata": {
        "id": "MGT2Oih-dK3-"
      },
      "outputs": [],
      "source": [
        "# lista a quantidade de acidentes ocorridos em cada coondição metereológica\n",
        "accidents_by_weather_condition = df[\"condicao_metereologica\"].value_counts()\n",
        "\n",
        "# gera e plota o gráfico de acidentes em relação condição metereológica\n",
        "accidents_by_weather_condition.plot(kind=\"bar\", \n",
        "                                    figsize=(20,10),\n",
        "                                    ylabel='numero de acidentes')\n",
        "plt.show()"
      ]
    }
  ],
  "metadata": {
    "colab": {
      "collapsed_sections": [],
      "name": "analise_descritiva_acidentes.ipynb",
      "provenance": []
    },
    "kernelspec": {
      "display_name": "Python 3 (ipykernel)",
      "language": "python",
      "name": "python3"
    },
    "language_info": {
      "codemirror_mode": {
        "name": "ipython",
        "version": 3
      },
      "file_extension": ".py",
      "mimetype": "text/x-python",
      "name": "python",
      "nbconvert_exporter": "python",
      "pygments_lexer": "ipython3",
      "version": "3.10.0"
    }
  },
  "nbformat": 4,
  "nbformat_minor": 0
}
