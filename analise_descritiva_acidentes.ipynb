{
  "nbformat": 4,
  "nbformat_minor": 0,
  "metadata": {
    "colab": {
      "name": "analise_descritiva_acidentes.ipynb",
      "provenance": [],
      "collapsed_sections": []
    },
    "kernelspec": {
      "display_name": "Python 3 (ipykernel)",
      "language": "python",
      "name": "python3"
    },
    "language_info": {
      "codemirror_mode": {
        "name": "ipython",
        "version": 3
      },
      "file_extension": ".py",
      "mimetype": "text/x-python",
      "name": "python",
      "nbconvert_exporter": "python",
      "pygments_lexer": "ipython3",
      "version": "3.10.0"
    }
  },
  "cells": [
    {
      "cell_type": "markdown",
      "metadata": {
        "id": "aSgZtZjlzV7E"
      },
      "source": [
        "---\n",
        "\n",
        "\n",
        "**Importando as bibliotecas**\n",
        "\n",
        "---\n",
        "\n"
      ]
    },
    {
      "cell_type": "code",
      "metadata": {
        "id": "pagYWbfNuQNP"
      },
      "source": [
        "# coleta, tratamento e manipulação dos dados\n",
        "import numpy as np\n",
        "import pandas as pd\n",
        "\n",
        "# visualização e geração de mapas de calor\n",
        "import folium\n",
        "from folium import plugins\n",
        "import branca.colormap as cm\n",
        "\n",
        "# visualização e geração dos gráficos\n",
        "import matplotlib.pyplot as plt\n",
        "from datetime import time"
      ],
      "execution_count": 21,
      "outputs": []
    },
    {
      "cell_type": "markdown",
      "metadata": {
        "id": "d5jobRY7AAqg"
      },
      "source": [
        "# **1. Coletar dados**"
      ]
    },
    {
      "cell_type": "markdown",
      "metadata": {
        "id": "dwIwmI6Gz05p"
      },
      "source": [
        "---\n",
        "\n",
        "**Coleta dos dados**: acidentes nas rodovias federais nordestinas em 2018\n",
        "\n",
        "---\n",
        "\n"
      ]
    },
    {
      "cell_type": "code",
      "metadata": {
        "id": "iq5nZGdhulPi"
      },
      "source": [
        "#Lê o dataset de acidentes no Brasil armazenado no arquivo csv\n",
        "df = pd.read_csv(\"datatran2018.csv\", encoding='latin', sep=\";\", error_bad_lines=False)\n",
        "\n",
        "#Cria um filtro para selecionar apenas acidentes no Nordeste\n",
        "filter_northeast = ((df[\"uf\"] == \"BA\") | (df[\"uf\"] == \"PE\") | (df[\"uf\"] == \"AL\") |\n",
        "                    (df[\"uf\"] == \"MA\") | (df[\"uf\"] == \"CE\") | (df[\"uf\"] == \"PB\") |\n",
        "                    (df[\"uf\"] == \"PI\") | (df[\"uf\"] == \"RN\") | (df[\"uf\"] == \"CE\"))\n",
        "\n",
        "#Atualiza o dataframe apenas com os acidentes no Nordeste\n",
        "df = df[filter_northeast]\n",
        "\n",
        "#Mostra o número de linhas (acidentes) e colunas (informações) do dataframe de acidentes\n",
        "df.shape"
      ],
      "execution_count": null,
      "outputs": []
    },
    {
      "cell_type": "markdown",
      "metadata": {
        "id": "woIV0KOgEBTv"
      },
      "source": [
        "Com a coleta de dados pode-se perceber que no ano de 2018, houveram 14285 acidentes nos trechos das rodovias federais que estão situados no nordeste."
      ]
    },
    {
      "cell_type": "markdown",
      "metadata": {
        "id": "9W_LvPr2AIIv"
      },
      "source": [
        "# **2. Realizar pré-processamento dos dados**"
      ]
    },
    {
      "cell_type": "markdown",
      "metadata": {
        "id": "ZhS_coDI5D2G"
      },
      "source": [
        "---\n",
        "\n",
        "**Definição de tipos**\n",
        "\n",
        "---\n",
        "\n"
      ]
    },
    {
      "cell_type": "code",
      "metadata": {
        "id": "LyQXrAtpvYow"
      },
      "source": [
        "#Apresenta os cinco primeiros dados do dataframe\n",
        "df.head()"
      ],
      "execution_count": null,
      "outputs": []
    },
    {
      "cell_type": "markdown",
      "metadata": {
        "id": "iU95KaaK5k6Y"
      },
      "source": [
        "*   **id**: categórico ordinal\n",
        "*   **data_inversa**: categórico ordinal\n",
        "*   **dia_semana**: categórico nominal\n",
        "*   **horário**: categórico ordinal\n",
        "*   **uf**: categórico nominal\n",
        "*   **br**: categórico nominal\n",
        "*   **km**: contínuo\n",
        "*   **município**: categórico nominal\n",
        "*   **causa_acidente**: categórico nominal\n",
        "*   **tipo_acidente**: categórico nominal\n",
        "*   **classificacao_acidente**: categórico nominal\n",
        "*   **fase_dia**: categórico nominal\n",
        "*   **sentido_via**: categórico nominal\n",
        "*   **condicao_metereologica**: categórico nominal\n",
        "*   **tipo_pista**: categórico nominal\n",
        "*   **tracado_via**: categórico nominal\n",
        "*   **uso_solo**: categórico binário\n",
        "*   **pessoas**: contínuo\n",
        "*   **mortos**: contínuo\n",
        "*   **feridos_leves**: contínuo\n",
        "*   **feridos_graves**: contínuo\n",
        "*   **ilesos**: contínuo\n",
        "*   **ignorados**: contínuo\n",
        "*   **feridos**: contínuo\n",
        "*   **veiculos**: contínuo\n",
        "*   **latitude**: contínuo\n",
        "*   **longitude**: contínuo\n",
        "*   **regional**: categórico nominal\n",
        "*   **delegacia**: categórico nominal\n",
        "*   **uop**: categórico nominal\n",
        "\n",
        "**Categóricos ordinais**: 3\n",
        "\n",
        "**Categóricos binários**: 1\n",
        "\n",
        "**Categóricos nominais**: 15\n",
        "\n",
        "**Contínuos**: 11"
      ]
    },
    {
      "cell_type": "markdown",
      "metadata": {
        "id": "4cPa_Vlh0z6y"
      },
      "source": [
        "---\n",
        "\n",
        "**Tratamento de dados ausentes**: como apresentado abaixo, 28 amostras não possuem os dados relacionados à BR e ao KM onde ocorreu o acidente. Devido a impossibilidade de inputar estes dados, as amostras foram removidas.\n",
        "\n",
        "---\n",
        "\n"
      ]
    },
    {
      "cell_type": "code",
      "metadata": {
        "id": "7jBI6f_B1ENV"
      },
      "source": [
        "#Verifica a quantidade de NaN em cada coluna do dataset\n",
        "df.isna().sum()"
      ],
      "execution_count": null,
      "outputs": []
    },
    {
      "cell_type": "code",
      "metadata": {
        "id": "CGK0DPIKSiv9"
      },
      "source": [
        "#Remove as linhas que possuem NaN em alguma coluna\n",
        "df.dropna(inplace = True)\n",
        "#Informa as dimensões do dataset\n",
        "df.shape"
      ],
      "execution_count": null,
      "outputs": []
    },
    {
      "cell_type": "markdown",
      "metadata": {
        "id": "jNZGglE4EeXC"
      },
      "source": [
        "Após a remoção dos dados ausentes, relacionados à BR onde o acidente aconteceu, restaram 14257 acidentes para análise."
      ]
    },
    {
      "cell_type": "markdown",
      "metadata": {
        "id": "LXYuNqToXKtq"
      },
      "source": [
        "---\n",
        "\n",
        "**Normalização e Discretização**: O processo de normalização consistiu na transformação dos dados 'causa_acidente' e 'tipo_acidente' em níveis de 0 a 1 que indicam do melhor ao pior caso. Em relação ao processo de discretização, foram definidos intervalos que agrupam os acidentes por quantidade pessoas envolvidas a partir do processamento do dado 'pessoas'. Ambos os processos resultaram em novas colunas no dataframe.\n",
        "\n",
        "---"
      ]
    },
    {
      "cell_type": "code",
      "metadata": {
        "id": "XR3YN-kgihGS"
      },
      "source": [
        "#Lista todas as causas de acidentes\n",
        "df[\"causa_acidente\"].value_counts()"
      ],
      "execution_count": null,
      "outputs": []
    },
    {
      "cell_type": "code",
      "metadata": {
        "id": "ejkSi_uBm0s-"
      },
      "source": [
        "#Tupla de causas de acidente onde não existe a culpa do condutor\n",
        "no_driver_irresponsibility = (\"Animais na Pista\", \"Falta de Atenção do Pedestre\", \"Pista Escorregadia\", \"Defeito na Via\", \"Mal Súbito\", \"Sinalização da via insuficiente ou inadequada\", \"Agressão Externa\", \"Desobediência às normas de trânsito pelo pedestre\")\n",
        "\n",
        "#Tupla de causas de acidente onde existe baixa culpa do condutor\n",
        "low_driver_irresponsibility = (\"Restrição de Visibilidade\", \"Deficiência ou não Acionamento do Sistema de Iluminação/Sinalização do Veículo\", \"Fenômenos da Natureza\")\n",
        "\n",
        "#Tupla de causas de acidente onde existe culpa moderada do condutor\n",
        "moderate_driver_irresponsibility = (\"Avarias e/ou desgaste excessivo no pneu\", \"Objeto estático sobre o leito carroçável\", \"Carga excessiva e/ou mal acondicionada\")\n",
        "\n",
        "#Tupla de causas de acidente onde existe alta culpa do condutor\n",
        "high_driver_irresponsibility = (\"Não guardar distância de segurança\", \"Defeito Mecânico no Veículo\", \"Condutor Dormindo\")\n",
        "\n",
        "#Tupla de causas de acidente onde existe culpa muito alta do condutor\n",
        "very_high_driver_irresponsibility = (\"Falta de Atenção à Condução\", \"Desobediência às normas de trânsito pelo condutor\", \"Ingestão de Álcool\", \"Velocidade Incompatível\", \"Ultrapassagem Indevida\", \"Ingestão de álcool e/ou substâncias psicoativas pelo pedestre\", \"Ingestão de Substâncias Psicoativas\")\n",
        "\n",
        "#Transforma a causa do acidente em um índice que representa o nível de culpa do condutor\n",
        "def normalize_accident_cause(accident_cause):\n",
        "  #Variável para o nível de culpa do condutor\n",
        "  level = None\n",
        "\n",
        "  #Níveis de culpa\n",
        "  if accident_cause in no_driver_irresponsibility:\n",
        "    level = 0.0\n",
        "  elif accident_cause in low_driver_irresponsibility:\n",
        "    level = 0.25\n",
        "  elif accident_cause in moderate_driver_irresponsibility:\n",
        "    level = 0.5\n",
        "  elif accident_cause in high_driver_irresponsibility:\n",
        "    level = 0.75\n",
        "  elif accident_cause in very_high_driver_irresponsibility:\n",
        "    level = 1.0\n",
        "\n",
        "  #Retorna o nível de culpa do condutor\n",
        "  return level\n",
        "\n",
        "#Cria uma nova coluna com dado categórico ordinal a partir do cálculo\n",
        "#do nível de culpa do condutor no acidente\n",
        "df[\"causa_acidente_normalizado\"] = df[\"causa_acidente\"].apply(normalize_accident_cause)\n",
        "\n",
        "#Mostra a coluna primitiva e a derivada a ela\n",
        "df[[\"causa_acidente\", \"causa_acidente_normalizado\"]].head()"
      ],
      "execution_count": null,
      "outputs": []
    },
    {
      "cell_type": "code",
      "metadata": {
        "id": "hUf-9hixw5yp"
      },
      "source": [
        "#Lista todas os tipos de acidentes\n",
        "df[\"tipo_acidente\"].value_counts()"
      ],
      "execution_count": null,
      "outputs": []
    },
    {
      "cell_type": "code",
      "metadata": {
        "id": "5Dy9my-y1U3_"
      },
      "source": [
        "#Tupla de acidentes de risco mínimo\n",
        "very_low_risk = (\"Colisão traseira\", \"Danos eventuais\", \"Derramamento de carga\")\n",
        "\n",
        "#Tupla de acidentes de baixo risco\n",
        "low_risk = (\"Queda de ocupante de veículo\", \"Atropelamento de Animal\", \"Colisão com objeto em movimento\")\n",
        "\n",
        "#Tupla de acidentes de risco moderado\n",
        "moderate_risk = (\"Colisão com objeto estático\", \"Engavetamento\")\n",
        "\n",
        "#Tupla de acidentes de alto risco\n",
        "high_risk = (\"Colisão transversal\", \"Tombamento\", \"Saída de leito carroçável\", \"Incêndio\")\n",
        "\n",
        "#Tupla de acidentes de risco máximo\n",
        "very_high_risk = (\"Colisão lateral\", \"Colisão frontal\", \"Atropelamento de Pedestre\", \"Capotamento\")\n",
        "\n",
        "#Transforma o tipo do acidente em um índice que representa o nível de risco\n",
        "def normalize_accident_type(accident_type):\n",
        "  #Variável para o nível de risco do acidente\n",
        "  level = None\n",
        "\n",
        "  #Níveis de risco\n",
        "  if accident_type in very_low_risk:\n",
        "    level = 0.0\n",
        "  elif accident_type in low_risk:\n",
        "    level = 0.25\n",
        "  elif accident_type in moderate_risk:\n",
        "    level = 0.5\n",
        "  elif accident_type in high_risk:\n",
        "    level = 0.75\n",
        "  elif accident_type in very_high_risk:\n",
        "    level = 1.0\n",
        "\n",
        "  #Retorna o nível de risco\n",
        "  return level\n",
        "\n",
        "#Cria uma nova coluna com dado categórico ordinal a partir do cálculo\n",
        "#do nível de risco de vítimas no acidente\n",
        "df[\"tipo_acidente_normalizado\"] = df[\"tipo_acidente\"].apply(normalize_accident_type)\n",
        "\n",
        "#Mostra a coluna primitiva e a derivada a ela\n",
        "df[[\"tipo_acidente\", \"tipo_acidente_normalizado\"]].head()"
      ],
      "execution_count": null,
      "outputs": []
    },
    {
      "cell_type": "code",
      "metadata": {
        "id": "Jh8MnDdJhHVb"
      },
      "source": [
        "#Acidente com o maior número de pessoas envolvidas\n",
        "df[\"pessoas\"].max()"
      ],
      "execution_count": null,
      "outputs": []
    },
    {
      "cell_type": "code",
      "metadata": {
        "id": "9-kpgNcFX9jG"
      },
      "source": [
        "#Discretiza o número de pessoas envolvidas nos acidentes em intervalos de 10\n",
        "def discretize_n_people(people):\n",
        "  #Variável para o intervalo\n",
        "  range = None\n",
        "\n",
        "  #Intervalos considerados a partir do máximo de pessoas envolvidas no dataset\n",
        "  if people >= 0 and people < 10:\n",
        "    range = \"[0, 10)\"\n",
        "  elif people >= 10 and people < 20:\n",
        "    range = \"[10, 20)\"\n",
        "  elif people >= 20 and people < 30:\n",
        "    range = \"[20, 30)\"\n",
        "  elif people >= 30 and people < 40:\n",
        "    range = \"[30, 40)\"\n",
        "  elif people >= 40 and people < 50:\n",
        "    range = \"[40, 50)\"\n",
        "  elif people >= 50 and people <= 60:\n",
        "    range = \"[50, 60]\"\n",
        "\n",
        "  #Retorna o intervalo calulado para determinado número de pessoas\n",
        "  return range\n",
        "\n",
        "#Cria uma nova coluna com dado categórico nominal a partir do cálculo do \n",
        "#intervalo de pessoas para cada linha\n",
        "df[\"pessoas_discretizadas\"] = df[\"pessoas\"].apply(discretize_n_people)\n",
        "\n",
        "#Mostra a coluna primitiva e a derivada a ela\n",
        "df[[\"pessoas\", \"pessoas_discretizadas\"]].head()"
      ],
      "execution_count": null,
      "outputs": []
    },
    {
      "cell_type": "markdown",
      "metadata": {
        "id": "iq8BdRs68PEP"
      },
      "source": [
        "---\n",
        "\n",
        "**Limpeza de dados**: diante da ausência de outliers, incorretos e dados duplicados, a limpeza foi realizada apenas para dados irrelevantes para esta análise: id, km, municipio, sentido_via, feridos, regional, delegacia e uop\n",
        "\n",
        "---"
      ]
    },
    {
      "cell_type": "markdown",
      "metadata": {
        "id": "diKOvaHbE6PD"
      },
      "source": [
        "**ANALISE DE OUTLIERS AQUI**"
      ]
    },
    {
      "cell_type": "code",
      "metadata": {
        "id": "TscmKq_L8d9T"
      },
      "source": [
        "#Remove as colunas irrelevantes\n",
        "df.drop([\"id\", \"km\", \"municipio\", \"sentido_via\", \"feridos\", \"regional\", \"delegacia\", \"uop\"], axis = 1, inplace = True)\n",
        "#Mostra o novo dataframe\n",
        "df.head()"
      ],
      "execution_count": null,
      "outputs": []
    },
    {
      "cell_type": "markdown",
      "metadata": {
        "id": "DgiqAHweF1A5"
      },
      "source": [
        "Após a realização das etapas de pré-processamento, o dataframe ficou na situação apresentada acima."
      ]
    },
    {
      "cell_type": "markdown",
      "metadata": {
        "id": "-fz6GyBHARjr"
      },
      "source": [
        "#**3. Apresentar estatísticas descritivas dos dados com visualizações**"
      ]
    },
    {
      "cell_type": "markdown",
      "metadata": {
        "id": "uitxFD-Z2_cc"
      },
      "source": [
        "---\n",
        "\n",
        "**Estatísticas univariadas**: apresenta o panorama da quantidade de pessoas que se envolveram em acidentes nas rodovias nordestinas.\n",
        "\n",
        "---"
      ]
    },
    {
      "cell_type": "code",
      "metadata": {
        "id": "6menmzn434nK"
      },
      "source": [
        "df.groupby(['uf']).describe()['pessoas']"
      ],
      "execution_count": null,
      "outputs": []
    },
    {
      "cell_type": "markdown",
      "metadata": {
        "id": "5yu1-emcF_dq"
      },
      "source": [
        "Descrição estatística dos acidentes por estado, tendo como parâmetro a quantidade de pessoas envolvidas. "
      ]
    },
    {
      "cell_type": "code",
      "metadata": {
        "id": "TI-nVRpx3NU2"
      },
      "source": [
        "df.groupby(['uf']).mean()['pessoas'].plot.bar(figsize=(20,10))"
      ],
      "execution_count": null,
      "outputs": []
    },
    {
      "cell_type": "markdown",
      "metadata": {
        "id": "6qnwj9HNGK3L"
      },
      "source": [
        "O gráfico que relaciona a média de pessoas envolvidas nos acidentes por estado apresenta um valor muito próximo para cada estado nordestino."
      ]
    },
    {
      "cell_type": "code",
      "metadata": {
        "id": "eaITANhy3kpq"
      },
      "source": [
        "df.groupby(['uf']).median()['pessoas'].plot.bar(figsize=(20,10))"
      ],
      "execution_count": null,
      "outputs": []
    },
    {
      "cell_type": "code",
      "metadata": {
        "id": "8fjq8EcZG3le"
      },
      "source": [
        "df.mode()['pessoas']"
      ],
      "execution_count": null,
      "outputs": []
    },
    {
      "cell_type": "markdown",
      "metadata": {
        "id": "JiVYATcQGfoo"
      },
      "source": [
        "O gráfico que relaciona a mediana de pessoas envolvidas nos acidentes por estado apresenta o mesmo número de pessoas para cada estado. Analisando em conjunto à moda, é possível visualizar que existe uma tendência de envolvimento de duas pessoas nos acidentes destas rodovias federais."
      ]
    },
    {
      "cell_type": "code",
      "metadata": {
        "id": "d9_IQ6h83yNE"
      },
      "source": [
        "df.groupby(['uf']).std()['pessoas'].plot.bar(figsize=(20,10))"
      ],
      "execution_count": null,
      "outputs": []
    },
    {
      "cell_type": "markdown",
      "metadata": {
        "id": "cQ9tqFe8HkQu"
      },
      "source": [
        "O gráfico que relaciona o desvio padrão de pessoas envolvidas nos acidentes por estado apresenta uma variação maior entre os estados, em relação aos outros. Tendo Bahia, Maranhão e Piauí com maiores desvios."
      ]
    },
    {
      "cell_type": "code",
      "metadata": {
        "id": "GSroZ_A24LZj"
      },
      "source": [
        "df.groupby(['uf']).max()['pessoas'].plot.bar(figsize=(20,10))"
      ],
      "execution_count": null,
      "outputs": []
    },
    {
      "cell_type": "markdown",
      "metadata": {
        "id": "8tg275lmH878"
      },
      "source": [
        "O gráfico que relaciona o máximo de pessoas envolvidas nos acidentes por estado também apresenta uma variação maior entre os estados, em relação aos outros. Neste, é possível visualizar que a Bahia, Maranhão e o Piauí lideram em acidentes envolvendo muitas pessoas. Fato que está de acordo com os dados de desvio padrão. "
      ]
    },
    {
      "cell_type": "markdown",
      "metadata": {
        "id": "nk6mpmEA9YfZ"
      },
      "source": [
        "---\n",
        "\n",
        "**Estatísticas bivariadas**: apresenta a correlação entre a quantidade de pessoas que se envolveram em acidentes nas rodovias nordestina, relacionando com o número de óbitos, feridos e ilesos.\n",
        "\n",
        "---"
      ]
    },
    {
      "cell_type": "code",
      "metadata": {
        "id": "AQJJnne69YEp"
      },
      "source": [
        "df[[\"pessoas\", \"mortos\", \"feridos_leves\", \"feridos_graves\", \"ilesos\"]].corr(method='pearson')"
      ],
      "execution_count": null,
      "outputs": []
    },
    {
      "cell_type": "markdown",
      "metadata": {
        "id": "JeIMs7bkIWY8"
      },
      "source": [
        "Correlaciona o número de pessoas envolvidas nos acidentes, trazendo a proporção de mortos, feridos leves e graves e ilesos."
      ]
    },
    {
      "cell_type": "code",
      "metadata": {
        "id": "m7WrCy6e-1mM"
      },
      "source": [
        "df.plot.scatter(x='pessoas', y='mortos')"
      ],
      "execution_count": null,
      "outputs": []
    },
    {
      "cell_type": "markdown",
      "metadata": {
        "id": "90ytdrsWIkqq"
      },
      "source": [
        "Mostra que os acidentes com menor número de pessoas envolvidas possuem os maiores números de óbitos."
      ]
    },
    {
      "cell_type": "code",
      "metadata": {
        "id": "E1yyErPK_BO4"
      },
      "source": [
        "df.plot.scatter(x='pessoas',y='feridos_leves')"
      ],
      "execution_count": null,
      "outputs": []
    },
    {
      "cell_type": "markdown",
      "metadata": {
        "id": "kxE9WtnyItCh"
      },
      "source": [
        "Mostra que os acidentes com menor número de pessoas envolvidas possuem uma maior concentração de feridos leves."
      ]
    },
    {
      "cell_type": "code",
      "metadata": {
        "id": "LatVCFkY_KAu"
      },
      "source": [
        "df.plot.scatter(x='pessoas',y='feridos_graves')"
      ],
      "execution_count": null,
      "outputs": []
    },
    {
      "cell_type": "markdown",
      "metadata": {
        "id": "c0O681aKIwrj"
      },
      "source": [
        "Mostra que os acidentes com menor número de pessoas envolvidas possuem uma maior concentração de feridos graves.\n"
      ]
    },
    {
      "cell_type": "code",
      "metadata": {
        "id": "9EfU1_yf_NQb"
      },
      "source": [
        "df.plot.scatter(x='pessoas',y='ilesos')"
      ],
      "execution_count": null,
      "outputs": []
    },
    {
      "cell_type": "markdown",
      "metadata": {
        "id": "UZao9oizJCOm"
      },
      "source": [
        "Mostra que os acidentes com menor número de pessoas envolvidas possuem uma maior concentração de ilesos."
      ]
    },
    {
      "cell_type": "markdown",
      "metadata": {
        "id": "RpOmD0u5Mq9P"
      },
      "source": [
        "---\n",
        "\n",
        "**Mapa de calor de acidentes:** apresenta o índice de acidentes de acordo com a localização das incidências \n",
        "\n",
        "---"
      ]
    },
    {
      "cell_type": "code",
      "metadata": {
        "id": "hBtfzYxLQaLa"
      },
      "source": [
        "# lista de coordendas dos acidentes\n",
        "coordinates = []\n",
        "\n",
        "# armazena as coordenadas de todos acincentes registrados no dataframe\n",
        "for latitude, longitude in zip(df.latitude.values, df.longitude.values):    \n",
        "  coordinates.append([latitude, longitude])\n",
        "\n",
        "# intancia a visualização do mapa do Nordeste\n",
        "heatmap_total_accidents = folium.Map(\n",
        "    location=[-9.231630041999422, -39.87133381935983],\n",
        "    tiles=\"Stamen Terrain\",\n",
        "    zoom_start=6,    \n",
        ")\n",
        "\n",
        "# adiciona os pontos de calor relacionados ao localização dos acidentes\n",
        "heatmap_total_accidents.add_child(plugins.HeatMap(coordinates, blur=25))\n",
        "heatmap_total_accidents"
      ],
      "execution_count": null,
      "outputs": []
    },
    {
      "cell_type": "markdown",
      "metadata": {
        "id": "GgPbVG3QXaKr"
      },
      "source": [
        "---\n",
        "\n",
        "**Mapa de acidentes por nível de irresponsabilidade do condutor:** apresenta o íncide de acidentes de acordo com a normalização realizada nos dados referentes a causa do acidente\n",
        "\n",
        "---"
      ]
    },
    {
      "cell_type": "code",
      "metadata": {
        "id": "TlorO_at0fni"
      },
      "source": [
        "# lista de coordendas dos acidentes\n",
        "coordinates_cause_accidents = []\n",
        "\n",
        "# armazena as coordenadas de todos acincentes e seus respectivos tipos registrados no dataframe\n",
        "for latitude, longitude, weight in zip(df.latitude.values, df.longitude.values, df.causa_acidente_normalizado.values):    \n",
        "  coordinates_cause_accidents.append([latitude, longitude, weight])\n",
        "\n",
        "# intancia a visualização do mapa do Nordeste\n",
        "heatmap_cause_accidents = folium.Map(\n",
        "    location=[-9.231630041999422, -39.87133381935983],\n",
        "    tiles=\"Stamen Terrain\",\n",
        "    zoom_start=6,    \n",
        ")\n",
        "\n",
        "# define a escala de cores para cada nível de responsabilidade\n",
        "colormap = cm.LinearColormap(colors=['#FDE788', '#FEAF68', '#FE7748', '#FF3F27', '#FF0707'], \n",
        "                             index=[0.0, .25, .50, .75, 1.0], \n",
        "                             vmin=0.0, \n",
        "                             vmax=1.0, \n",
        "                             caption='Nível de irresponasbilidade do condutor nos acidentes').add_to(heatmap_cause_accidents)\n",
        "\n",
        "# insere o pontos de incidencia de acordo com seus níveis\n",
        "for latitude, longitude, weight in coordinates_cause_accidents:\n",
        "  color = colormap(weight)\n",
        "  folium.PolyLine([(latitude, longitude), (latitude, longitude)],\n",
        "                  color=color,\n",
        "                  weight=7, \n",
        "                  opacity=0.4).add_to(heatmap_cause_accidents)\n",
        "\n",
        "heatmap_cause_accidents"
      ],
      "execution_count": null,
      "outputs": []
    },
    {
      "cell_type": "markdown",
      "metadata": {
        "id": "WqUeebHQOlh8"
      },
      "source": [
        "---\n",
        "\n",
        "**Mapa de acidentes por nível de risco:** apresenta o íncide de acidentes de acordo com a normalização realizada nos dados referentes ao tipo de acidente\n",
        "\n",
        "---"
      ]
    },
    {
      "cell_type": "code",
      "metadata": {
        "id": "OH_uPHmmPpPn"
      },
      "source": [
        "# lista de coordendas dos acidentes\n",
        "coordinates_type_accidents = []\n",
        "\n",
        "# armazena as coordenadas de todos acincentes e seus respectivos tipos registrados no dataframe\n",
        "for latitude, longitude, weight in zip(df.latitude.values, df.longitude.values, df.tipo_acidente_normalizado.values):    \n",
        "  coordinates_type_accidents.append([latitude, longitude, weight])\n",
        "\n",
        "# intancia a visualização do mapa do Nordeste\n",
        "heatmap_type_accidents = folium.Map(\n",
        "    location=[-9.231630041999422, -39.87133381935983],\n",
        "    tiles=\"Stamen Terrain\",\n",
        "    zoom_start=6,    \n",
        ")\n",
        "\n",
        "# define a escala de cores para cada nível risco do acidente\n",
        "colormap = cm.LinearColormap(colors=['#FDE788', '#FEAF68', '#FE7748', '#FF3F27', '#FF0707'], \n",
        "                             index=[0.0, .25, .50, .75, 1.0], \n",
        "                             vmin=0.0, \n",
        "                             vmax=1.0, \n",
        "                             caption='Nível de risco nos acidentes').add_to(heatmap_type_accidents)\n",
        "\n",
        "# insere o pontos de incidencia de acordo com seus níveis\n",
        "for latitude, longitude, weight in coordinates_type_accidents:\n",
        "  color = colormap(weight)\n",
        "  folium.PolyLine([(latitude, longitude), (latitude, longitude)],\n",
        "                  color=color,\n",
        "                  weight=7, \n",
        "                  opacity=0.4).add_to(heatmap_type_accidents)\n",
        "\n",
        "heatmap_type_accidents"
      ],
      "execution_count": null,
      "outputs": []
    },
    {
      "cell_type": "markdown",
      "metadata": {
        "id": "q7Muihijy13B"
      },
      "source": [
        "---\n",
        "\n",
        "**Gráfico dos acidentes em cada estado:** apresenta quantos acidentes ocorreram em cada estado \n",
        "\n",
        "---"
      ]
    },
    {
      "cell_type": "code",
      "metadata": {
        "id": "xKw9LJCnkWMl"
      },
      "source": [
        "# lista a quantidade de acidentes por cada estado\n",
        "accidents_by_state = df[\"uf\"].value_counts()\n",
        "\n",
        "# gera e plota o gráfico de acidentes em relação a cada estado\n",
        "accidents_by_state.plot(kind=\"bar\", \n",
        "                        figsize=(20,10),                         \n",
        "                        ylabel='numero de acidentes')\n",
        "plt.show()"
      ],
      "execution_count": null,
      "outputs": []
    },
    {
      "cell_type": "markdown",
      "metadata": {
        "id": "j_-FoazjkV4k"
      },
      "source": [
        "---\n",
        "\n",
        "**Gráfico dos acidentes em cada BR:** apresenta quantos acidentes ocorreram em cada rodovia federal\n",
        "\n",
        "---"
      ]
    },
    {
      "cell_type": "code",
      "metadata": {
        "id": "YZnB6EFVksvr"
      },
      "source": [
        "# lista a quantidade de acidentes em cada rodovia\n",
        "accidents_by_road = df[\"br\"].value_counts()\n",
        "\n",
        "# gera e plota o gráfico de acidentes em relação a cada rodovia\n",
        "accidents_by_road.plot(kind=\"bar\", \n",
        "                        figsize=(20,10),                         \n",
        "                        ylabel='numero de acidentes')\n",
        "plt.show()"
      ],
      "execution_count": null,
      "outputs": []
    },
    {
      "cell_type": "markdown",
      "metadata": {
        "id": "vTgWkkU7nchl"
      },
      "source": [
        "---\n",
        "\n",
        "**Gráfico dos acidentes em cada turno:** apresenta quantos acidentes ocorreram em cada turno do dia\n",
        "\n",
        "---"
      ]
    },
    {
      "cell_type": "code",
      "metadata": {
        "id": "BcwQXBSLnyTW"
      },
      "source": [
        "# lista todos horarios de acidentes \n",
        "hours_accidents = pd.to_datetime(df['horario']).dt.time\n",
        "\n",
        "# define o período diurno entre 6h até as 18h\n",
        "start_day = time(6, 0, 0)\n",
        "finish_day = time(18, 0, 0)\n",
        "\n",
        "# inicializa os contadores diurno e noturno\n",
        "day = night = 0\n",
        "\n",
        "# contabiliza quantos acidentes ocorram em cada turno do dia\n",
        "for hour_accident in hours_accidents:\n",
        "  if (hour_accident >= start_day) and (hour_accident <= finish_day):\n",
        "    day += 1\n",
        "  else:\n",
        "    night += 1\n",
        "\n",
        "# gera e plota o gráfico de acidentes em relação ao turno do dia\n",
        "labels = \"Diurno\", \"Noturno\"\n",
        "sizes = [day, night]\n",
        "\n",
        "fig1, ax1 = plt.subplots(figsize=(9, 9))\n",
        "ax1.pie(sizes,         \n",
        "        labels=labels,\n",
        "        autopct='%1.1f%%',\n",
        "        shadow=True,              \n",
        "        startangle=90)\n",
        "ax1.axis('equal')\n",
        "\n",
        "plt.show()"
      ],
      "execution_count": null,
      "outputs": []
    },
    {
      "cell_type": "markdown",
      "metadata": {
        "id": "ULD2SDNnco8x"
      },
      "source": [
        "---\n",
        "\n",
        "**Gráfico de acidentes em relação a condição climática:** apresenta quantitavamente os acidentes de acordo com a condição metereológica\n",
        "\n",
        "---"
      ]
    },
    {
      "cell_type": "code",
      "metadata": {
        "id": "MGT2Oih-dK3-"
      },
      "source": [
        "# lista a quantidade de acidentes ocorridos em cada coondição metereológica\n",
        "accidents_by_weather_condition = df[\"condicao_metereologica\"].value_counts()\n",
        "\n",
        "# gera e plota o gráfico de acidentes em relação condição metereológica\n",
        "accidents_by_weather_condition.plot(kind=\"bar\", \n",
        "                                    figsize=(20,10),\n",
        "                                    ylabel='numero de acidentes')\n",
        "plt.show()"
      ],
      "execution_count": null,
      "outputs": []
    }
  ]
}